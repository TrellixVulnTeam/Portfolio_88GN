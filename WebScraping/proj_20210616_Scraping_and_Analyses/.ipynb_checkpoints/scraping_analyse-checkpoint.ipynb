{
 "cells": [
  {
   "cell_type": "markdown",
   "id": "55746162-8711-4fa5-b79a-98c175b2b89a",
   "metadata": {
    "tags": []
   },
   "source": [
    "<title><h1><b>Web Scraping e Análise Exploratória</b></h1></title>"
   ]
  },
  {
   "cell_type": "markdown",
   "id": "b9f01db5-57f7-4e5e-973c-e83dd3d38426",
   "metadata": {},
   "source": [
    "Neste projeto vou realizar:\n",
    "   1. Extração de dados de uma página web;\n",
    "   2. Análise exploratória dos dados."
   ]
  },
  {
   "cell_type": "markdown",
   "id": "cfe05f6a-eecd-4ef3-9702-3fff43c6d096",
   "metadata": {},
   "source": [
    "Os dados serão extraídos do portal de vagas Indeed: https://br.indeed.com/"
   ]
  },
  {
   "cell_type": "markdown",
   "id": "0ee83a5c-0bca-4c0b-ab8a-3fbd2ab5e397",
   "metadata": {},
   "source": [
    "Na Etapa 1, utilizarei a biblioteca Selenium, seu WebDriver Chromium e, a biblioteca Beautiful Soup.\n",
    "\n",
    "    Selenium - é um conjunto de ferramentas para automação de navegadores web, utilizado principalmente para testes automatizados de software. Aqui, utilizarei para automatizar alguns cliques na página com o intuito de acessar os dados.\n",
    "\n",
    "    Beautiful Soup - é uma biblioteca para extração de dados de documentos HTML e XML."
   ]
  },
  {
   "cell_type": "markdown",
   "id": "78f8c069-3154-429f-9de4-a9cdf8805307",
   "metadata": {},
   "source": [
    "Na Etapa 2, realizo análise exploratória dos dados obtidos, que neste momento serão recuperados de um arquivo csv. Nesta análise, além do sumário estatístico e das visualizações de dados, utilizo também o pacote NLTK para quebrar as sentenças de texto em palavras, para então fazer o processamento e análise de textos.\n",
    "    \n",
    "    NLTK - Natural Language Toolkit é uma plataforma de ferramentas para trabalhar com dados de linguagem natural e processamento de texto."
   ]
  },
  {
   "cell_type": "markdown",
   "id": "4238f138-03ab-4ca9-8e37-492e70de0823",
   "metadata": {},
   "source": [
    "## Setup"
   ]
  },
  {
   "cell_type": "markdown",
   "id": "909295e2-0062-47c3-8a7c-ead5210092c5",
   "metadata": {},
   "source": [
    "### Importação dos Pacotes"
   ]
  },
  {
   "cell_type": "code",
   "execution_count": 52,
   "id": "4c6a908b-d975-438b-849b-19a5491473a3",
   "metadata": {},
   "outputs": [],
   "source": [
    "from bs4 import BeautifulSoup\n",
    "from selenium import webdriver\n",
    "import pandas\n",
    "from matplotlib import pyplot\n",
    "import nltk\n",
    "from nltk import word_tokenize\n",
    "from nltk.corpus import stopwords\n",
    "from collections import Counter"
   ]
  },
  {
   "cell_type": "markdown",
   "id": "c35c1b0f-258b-4394-8f01-cd03b5595f25",
   "metadata": {},
   "source": [
    "### Outras Configurações"
   ]
  },
  {
   "cell_type": "code",
   "execution_count": 2,
   "id": "112a4ec6-90a7-42d5-8684-e2d37ce21b0c",
   "metadata": {},
   "outputs": [],
   "source": [
    "# Download do Chromium Driver\n",
    "# https://sites.google.com/a/chromium.org/chromedriver/home\n",
    "\n",
    "# Salve o Chromium na mesma pasta do projeto"
   ]
  },
  {
   "cell_type": "markdown",
   "id": "a972c535-a554-4820-b906-10ebdc1c2678",
   "metadata": {},
   "source": [
    "## Etapa 1 - Web Scraping"
   ]
  },
  {
   "cell_type": "markdown",
   "id": "162e23dd-5991-42c3-a4dc-288eb912c850",
   "metadata": {},
   "source": [
    "### Acessar a página e obter o documento HTML"
   ]
  },
  {
   "cell_type": "code",
   "execution_count": 3,
   "id": "42f8be78-7328-4d87-831f-ea3402b8983a",
   "metadata": {},
   "outputs": [],
   "source": [
    "URL = \"https://br.indeed.com/jobs?q=ciencia+de+dados&l=brasil\""
   ]
  },
  {
   "cell_type": "code",
   "execution_count": 4,
   "id": "e28db370-0854-48a7-8d02-c35f97136445",
   "metadata": {},
   "outputs": [],
   "source": [
    "# Instanciar uma sessão do Chrome WebDriver\n",
    "driver = webdriver.Chrome(\"./chromedriver\")"
   ]
  },
  {
   "cell_type": "code",
   "execution_count": 5,
   "id": "b7ff521d-f839-440f-b6ac-e9bc9e1d78d8",
   "metadata": {},
   "outputs": [],
   "source": [
    "# Navegar para Url\n",
    "driver.get(URL)\n",
    "driver.implicitly_wait(15)"
   ]
  },
  {
   "cell_type": "code",
   "execution_count": 6,
   "id": "6628bd7d-a28d-4bab-9bf1-22753c09fe58",
   "metadata": {},
   "outputs": [],
   "source": [
    "# Aceitar os cookies da página\n",
    "aceitar_cookies = driver.find_element_by_id(\"onetrust-accept-btn-handler\")\n",
    "aceitar_cookies.click()"
   ]
  },
  {
   "cell_type": "code",
   "execution_count": 7,
   "id": "135a23f3-d6f5-417f-8326-67ed01c40a70",
   "metadata": {},
   "outputs": [],
   "source": [
    "# Obtendo o documento\n",
    "jobsearch = driver.find_elements_by_class_name(\"result\")"
   ]
  },
  {
   "cell_type": "markdown",
   "id": "842cca0f-bb82-4ef9-9ad1-72f935ade211",
   "metadata": {},
   "source": [
    "### Realizando a extração do dados"
   ]
  },
  {
   "cell_type": "code",
   "execution_count": 11,
   "id": "5206c3b0-2ec0-435a-9a80-8bc19184301d",
   "metadata": {},
   "outputs": [
    {
     "data": {
      "text/html": [
       "<div>\n",
       "<style scoped>\n",
       "    .dataframe tbody tr th:only-of-type {\n",
       "        vertical-align: middle;\n",
       "    }\n",
       "\n",
       "    .dataframe tbody tr th {\n",
       "        vertical-align: top;\n",
       "    }\n",
       "\n",
       "    .dataframe thead th {\n",
       "        text-align: right;\n",
       "    }\n",
       "</style>\n",
       "<table border=\"1\" class=\"dataframe\">\n",
       "  <thead>\n",
       "    <tr style=\"text-align: right;\">\n",
       "      <th></th>\n",
       "      <th>title</th>\n",
       "      <th>company</th>\n",
       "      <th>salary</th>\n",
       "      <th>location</th>\n",
       "      <th>remote</th>\n",
       "      <th>jobdesc</th>\n",
       "    </tr>\n",
       "  </thead>\n",
       "  <tbody>\n",
       "    <tr>\n",
       "      <th>0</th>\n",
       "      <td>BANCO DE TALENTOS l BGC Brasil</td>\n",
       "      <td>BGC Brasil</td>\n",
       "      <td>R$ 1.500 - R$ 2.000 por mês</td>\n",
       "      <td>Rio de Janeiro, RJ</td>\n",
       "      <td>Home office</td>\n",
       "      <td>https://bit.ly/AlmaBGC para realizar sua inscr...</td>\n",
       "    </tr>\n",
       "    <tr>\n",
       "      <th>1</th>\n",
       "      <td>Estágio Desenvolvedor de Software Full Stack</td>\n",
       "      <td>Empresa confidencial</td>\n",
       "      <td>R$ 1.000 por mês</td>\n",
       "      <td>Santa Catarina</td>\n",
       "      <td>Home office</td>\n",
       "      <td>Nível: Estagiário Área: Tecnologia da Informaç...</td>\n",
       "    </tr>\n",
       "    <tr>\n",
       "      <th>2</th>\n",
       "      <td>Assistente De Integração De Dados – Escritório...</td>\n",
       "      <td>Buscar Vagas - BR</td>\n",
       "      <td>R$ 2.000 por mês</td>\n",
       "      <td>Novo Hamburgo, RS</td>\n",
       "      <td></td>\n",
       "      <td>Atribuições: Escritório de Contabilidade local...</td>\n",
       "    </tr>\n",
       "    <tr>\n",
       "      <th>3</th>\n",
       "      <td>Gerente de Relacionamento</td>\n",
       "      <td>Sicoob Confiança</td>\n",
       "      <td></td>\n",
       "      <td>Marechal Cândido Rondon, PR</td>\n",
       "      <td></td>\n",
       "      <td>Descrição: Administrar e atender a carteira de...</td>\n",
       "    </tr>\n",
       "    <tr>\n",
       "      <th>4</th>\n",
       "      <td>Assistente de Departamento Pessoal</td>\n",
       "      <td></td>\n",
       "      <td>R$ 1.500 por mês</td>\n",
       "      <td>Salvador, BA</td>\n",
       "      <td>Home office</td>\n",
       "      <td>A Agilize é a única contabilidade online com a...</td>\n",
       "    </tr>\n",
       "    <tr>\n",
       "      <th>5</th>\n",
       "      <td>Assistente de Cadastro</td>\n",
       "      <td></td>\n",
       "      <td></td>\n",
       "      <td>Maringá, PR</td>\n",
       "      <td>Home office</td>\n",
       "      <td>Descrição:  Realizar o cadastro do cooperado p...</td>\n",
       "    </tr>\n",
       "    <tr>\n",
       "      <th>6</th>\n",
       "      <td>Assistente De Dados – Recife – PE</td>\n",
       "      <td>Divulga Vagas</td>\n",
       "      <td></td>\n",
       "      <td>Recife, PE</td>\n",
       "      <td></td>\n",
       "      <td>Atribuições : Análise de preços, produtos e co...</td>\n",
       "    </tr>\n",
       "    <tr>\n",
       "      <th>7</th>\n",
       "      <td>Auxiliar de Contabilidade</td>\n",
       "      <td>Pessin Gestão e Desenvolvimento Humano</td>\n",
       "      <td>R$ 1.500 por mês</td>\n",
       "      <td>Eunápolis, BA</td>\n",
       "      <td></td>\n",
       "      <td>DESCRIÇÃO DA VAGA Realização de lançamentos co...</td>\n",
       "    </tr>\n",
       "    <tr>\n",
       "      <th>8</th>\n",
       "      <td>Analista de CRM</td>\n",
       "      <td>GF Gestão de Pessoas</td>\n",
       "      <td>R$ 7.000 - R$ 8.000 por mês</td>\n",
       "      <td>Remoto</td>\n",
       "      <td></td>\n",
       "      <td>O QUE VOCÊ PRECISA TER: - Vivência em estrutur...</td>\n",
       "    </tr>\n",
       "    <tr>\n",
       "      <th>9</th>\n",
       "      <td>ANALISTA FINANCEIRO</td>\n",
       "      <td>Divulga Vagas</td>\n",
       "      <td>R$ 2.500 - R$ 3.500 por mês</td>\n",
       "      <td>São José dos Campos, SP</td>\n",
       "      <td></td>\n",
       "      <td>Desejável possuir superior em Administração, E...</td>\n",
       "    </tr>\n",
       "    <tr>\n",
       "      <th>10</th>\n",
       "      <td>Cientista de Dados - JR</td>\n",
       "      <td></td>\n",
       "      <td></td>\n",
       "      <td>Recife, PE</td>\n",
       "      <td></td>\n",
       "      <td>Estamos em busca de profissionais que tenham e...</td>\n",
       "    </tr>\n",
       "    <tr>\n",
       "      <th>11</th>\n",
       "      <td>Analista De Dados OLAP</td>\n",
       "      <td>Divulga Vagas</td>\n",
       "      <td></td>\n",
       "      <td>Brasília, DF</td>\n",
       "      <td></td>\n",
       "      <td>Mínimo de 5 (cinco) anos no uso de soluções an...</td>\n",
       "    </tr>\n",
       "    <tr>\n",
       "      <th>12</th>\n",
       "      <td>Assistente De Dados – Recife – PE</td>\n",
       "      <td>Buscar Vagas - BR</td>\n",
       "      <td></td>\n",
       "      <td>Recife, PE</td>\n",
       "      <td></td>\n",
       "      <td>Atribuições: Análise de preços, produtos e con...</td>\n",
       "    </tr>\n",
       "    <tr>\n",
       "      <th>13</th>\n",
       "      <td>Técnico De Redes</td>\n",
       "      <td>Divulga Vagas</td>\n",
       "      <td>R$ 2.500 por mês</td>\n",
       "      <td>Cascavel, PR</td>\n",
       "      <td></td>\n",
       "      <td>Perfil profissional desejado: Proativo, organi...</td>\n",
       "    </tr>\n",
       "    <tr>\n",
       "      <th>14</th>\n",
       "      <td>Estágio em Ciência de Dados e Engenharia de Dados</td>\n",
       "      <td></td>\n",
       "      <td></td>\n",
       "      <td>Recife, PE</td>\n",
       "      <td>Home office</td>\n",
       "      <td>CHEGOU SUA HORA DE BRILHAR A Neurotech quer co...</td>\n",
       "    </tr>\n",
       "  </tbody>\n",
       "</table>\n",
       "</div>"
      ],
      "text/plain": [
       "                                                title  \\\n",
       "0                      BANCO DE TALENTOS l BGC Brasil   \n",
       "1        Estágio Desenvolvedor de Software Full Stack   \n",
       "2   Assistente De Integração De Dados – Escritório...   \n",
       "3                           Gerente de Relacionamento   \n",
       "4                  Assistente de Departamento Pessoal   \n",
       "5                              Assistente de Cadastro   \n",
       "6                   Assistente De Dados – Recife – PE   \n",
       "7                           Auxiliar de Contabilidade   \n",
       "8                                     Analista de CRM   \n",
       "9                                 ANALISTA FINANCEIRO   \n",
       "10                            Cientista de Dados - JR   \n",
       "11                             Analista De Dados OLAP   \n",
       "12                  Assistente De Dados – Recife – PE   \n",
       "13                                   Técnico De Redes   \n",
       "14  Estágio em Ciência de Dados e Engenharia de Dados   \n",
       "\n",
       "                                   company                       salary  \\\n",
       "0                               BGC Brasil  R$ 1.500 - R$ 2.000 por mês   \n",
       "1                     Empresa confidencial             R$ 1.000 por mês   \n",
       "2                        Buscar Vagas - BR             R$ 2.000 por mês   \n",
       "3                         Sicoob Confiança                                \n",
       "4                                                      R$ 1.500 por mês   \n",
       "5                                                                         \n",
       "6                            Divulga Vagas                                \n",
       "7   Pessin Gestão e Desenvolvimento Humano             R$ 1.500 por mês   \n",
       "8                     GF Gestão de Pessoas  R$ 7.000 - R$ 8.000 por mês   \n",
       "9                            Divulga Vagas  R$ 2.500 - R$ 3.500 por mês   \n",
       "10                                                                        \n",
       "11                           Divulga Vagas                                \n",
       "12                       Buscar Vagas - BR                                \n",
       "13                           Divulga Vagas             R$ 2.500 por mês   \n",
       "14                                                                        \n",
       "\n",
       "                       location       remote  \\\n",
       "0            Rio de Janeiro, RJ  Home office   \n",
       "1                Santa Catarina  Home office   \n",
       "2             Novo Hamburgo, RS                \n",
       "3   Marechal Cândido Rondon, PR                \n",
       "4                  Salvador, BA  Home office   \n",
       "5                   Maringá, PR  Home office   \n",
       "6                    Recife, PE                \n",
       "7                 Eunápolis, BA                \n",
       "8                        Remoto                \n",
       "9       São José dos Campos, SP                \n",
       "10                   Recife, PE                \n",
       "11                 Brasília, DF                \n",
       "12                   Recife, PE                \n",
       "13                 Cascavel, PR                \n",
       "14                   Recife, PE  Home office   \n",
       "\n",
       "                                              jobdesc  \n",
       "0   https://bit.ly/AlmaBGC para realizar sua inscr...  \n",
       "1   Nível: Estagiário Área: Tecnologia da Informaç...  \n",
       "2   Atribuições: Escritório de Contabilidade local...  \n",
       "3   Descrição: Administrar e atender a carteira de...  \n",
       "4   A Agilize é a única contabilidade online com a...  \n",
       "5   Descrição:  Realizar o cadastro do cooperado p...  \n",
       "6   Atribuições : Análise de preços, produtos e co...  \n",
       "7   DESCRIÇÃO DA VAGA Realização de lançamentos co...  \n",
       "8   O QUE VOCÊ PRECISA TER: - Vivência em estrutur...  \n",
       "9   Desejável possuir superior em Administração, E...  \n",
       "10  Estamos em busca de profissionais que tenham e...  \n",
       "11  Mínimo de 5 (cinco) anos no uso de soluções an...  \n",
       "12  Atribuições: Análise de preços, produtos e con...  \n",
       "13  Perfil profissional desejado: Proativo, organi...  \n",
       "14  CHEGOU SUA HORA DE BRILHAR A Neurotech quer co...  "
      ]
     },
     "execution_count": 11,
     "metadata": {},
     "output_type": "execute_result"
    }
   ],
   "source": [
    "jobs = pandas.DataFrame(columns = ['title', 'company', 'salary', 'location', 'remote', 'jobdesc'])\n",
    "\n",
    "for jobcard in jobsearch:\n",
    "    \n",
    "    html_doc = jobcard.get_attribute('innerHTML')\n",
    "    soup = BeautifulSoup(html_doc, 'html.parser')\n",
    "    \n",
    "    try: title = soup.find(\"h2\", class_=\"title\").a.text.replace('\\n', '')\n",
    "    except: title = ' '\n",
    "        \n",
    "    try: company = soup.find(class_=\"company\").string.replace('\\n', ' ').strip()\n",
    "    except: company = 'não informada'\n",
    "    \n",
    "    try: salary = soup.find(class_=\"salaryText\").string.replace('\\n', ' ').strip()\n",
    "    except: salary = ' '\n",
    "    \n",
    "    try: location = soup.find(class_=\"location\").string\n",
    "    except: location = ' '\n",
    "        \n",
    "    try: remote = soup.find(class_=\"remote\").string\n",
    "    except: remote = ' '\n",
    "    \n",
    "    # Clica no card para acessar o sumário do job\n",
    "    jobcard.find_element_by_class_name('summary').click()\n",
    "    \n",
    "    jobdesc = driver.find_element_by_id('vjs-desc').text.replace('\\n', ' ').strip()\n",
    "    \n",
    "    jobs = jobs.append(\n",
    "        {\n",
    "            'title': title,\n",
    "            'company': company,\n",
    "            'salary': salary,\n",
    "            'location': location,\n",
    "            'remote': remote,\n",
    "            'jobdesc': jobdesc\n",
    "        },\n",
    "        ignore_index = True)"
   ]
  },
  {
   "cell_type": "code",
   "execution_count": null,
   "id": "e72d8a1f-ce7c-4892-b957-5c6e8e20fe99",
   "metadata": {},
   "outputs": [],
   "source": [
    "# Uma pré visualização\n",
    "jobs.head()"
   ]
  },
  {
   "cell_type": "code",
   "execution_count": 12,
   "id": "52201011-0241-4a32-b1e3-231a5a0c57ba",
   "metadata": {},
   "outputs": [],
   "source": [
    "# Vamos salvar os dados obtidos em um arquivo CSV\n",
    "jobs.to_csv(\"./jobs.csv\", encoding=\"utf-8\", index=False)"
   ]
  },
  {
   "cell_type": "markdown",
   "id": "a578354e-e874-46f0-8487-4889dbbf5cfd",
   "metadata": {},
   "source": [
    "## Etapa 2 - Análise Exploratória"
   ]
  },
  {
   "cell_type": "markdown",
   "id": "c88ceed9-f29c-48ec-bc1d-636799da527f",
   "metadata": {},
   "source": [
    "A partir deste ponto vou recuperar os dados do arquivo csv que criei, e não mais acessar a página para buscar estes dados."
   ]
  },
  {
   "cell_type": "code",
   "execution_count": 14,
   "id": "a4f6b558-ecd9-4dd3-ad3b-796d7e8efb29",
   "metadata": {},
   "outputs": [],
   "source": [
    "# Importar os dados do arquivo CSV\n",
    "mass = pandas.read_csv(\"./jobs.csv\", encoding=\"utf-8\").fillna('')"
   ]
  },
  {
   "cell_type": "code",
   "execution_count": 17,
   "id": "ca5d0151-d6bb-4dbe-8eb5-e41fe8cda6d7",
   "metadata": {},
   "outputs": [
    {
     "data": {
      "text/html": [
       "<div>\n",
       "<style scoped>\n",
       "    .dataframe tbody tr th:only-of-type {\n",
       "        vertical-align: middle;\n",
       "    }\n",
       "\n",
       "    .dataframe tbody tr th {\n",
       "        vertical-align: top;\n",
       "    }\n",
       "\n",
       "    .dataframe thead th {\n",
       "        text-align: right;\n",
       "    }\n",
       "</style>\n",
       "<table border=\"1\" class=\"dataframe\">\n",
       "  <thead>\n",
       "    <tr style=\"text-align: right;\">\n",
       "      <th></th>\n",
       "      <th>title</th>\n",
       "      <th>company</th>\n",
       "      <th>salary</th>\n",
       "      <th>location</th>\n",
       "      <th>remote</th>\n",
       "      <th>jobdesc</th>\n",
       "    </tr>\n",
       "  </thead>\n",
       "  <tbody>\n",
       "    <tr>\n",
       "      <th>0</th>\n",
       "      <td>BANCO DE TALENTOS l BGC Brasil</td>\n",
       "      <td>BGC Brasil</td>\n",
       "      <td>R$ 1.500 - R$ 2.000 por mês</td>\n",
       "      <td>Rio de Janeiro, RJ</td>\n",
       "      <td>Home office</td>\n",
       "      <td>https://bit.ly/AlmaBGC para realizar sua inscr...</td>\n",
       "    </tr>\n",
       "    <tr>\n",
       "      <th>1</th>\n",
       "      <td>Estágio Desenvolvedor de Software Full Stack</td>\n",
       "      <td>Empresa confidencial</td>\n",
       "      <td>R$ 1.000 por mês</td>\n",
       "      <td>Santa Catarina</td>\n",
       "      <td>Home office</td>\n",
       "      <td>Nível: Estagiário Área: Tecnologia da Informaç...</td>\n",
       "    </tr>\n",
       "    <tr>\n",
       "      <th>2</th>\n",
       "      <td>Assistente De Integração De Dados – Escritório...</td>\n",
       "      <td>Buscar Vagas - BR</td>\n",
       "      <td>R$ 2.000 por mês</td>\n",
       "      <td>Novo Hamburgo, RS</td>\n",
       "      <td></td>\n",
       "      <td>Atribuições: Escritório de Contabilidade local...</td>\n",
       "    </tr>\n",
       "    <tr>\n",
       "      <th>3</th>\n",
       "      <td>Gerente de Relacionamento</td>\n",
       "      <td>Sicoob Confiança</td>\n",
       "      <td></td>\n",
       "      <td>Marechal Cândido Rondon, PR</td>\n",
       "      <td></td>\n",
       "      <td>Descrição: Administrar e atender a carteira de...</td>\n",
       "    </tr>\n",
       "    <tr>\n",
       "      <th>4</th>\n",
       "      <td>Assistente de Departamento Pessoal</td>\n",
       "      <td></td>\n",
       "      <td>R$ 1.500 por mês</td>\n",
       "      <td>Salvador, BA</td>\n",
       "      <td>Home office</td>\n",
       "      <td>A Agilize é a única contabilidade online com a...</td>\n",
       "    </tr>\n",
       "  </tbody>\n",
       "</table>\n",
       "</div>"
      ],
      "text/plain": [
       "                                               title               company  \\\n",
       "0                     BANCO DE TALENTOS l BGC Brasil            BGC Brasil   \n",
       "1       Estágio Desenvolvedor de Software Full Stack  Empresa confidencial   \n",
       "2  Assistente De Integração De Dados – Escritório...     Buscar Vagas - BR   \n",
       "3                          Gerente de Relacionamento      Sicoob Confiança   \n",
       "4                 Assistente de Departamento Pessoal                         \n",
       "\n",
       "                        salary                     location       remote  \\\n",
       "0  R$ 1.500 - R$ 2.000 por mês           Rio de Janeiro, RJ  Home office   \n",
       "1             R$ 1.000 por mês               Santa Catarina  Home office   \n",
       "2             R$ 2.000 por mês            Novo Hamburgo, RS                \n",
       "3                               Marechal Cândido Rondon, PR                \n",
       "4             R$ 1.500 por mês                 Salvador, BA  Home office   \n",
       "\n",
       "                                             jobdesc  \n",
       "0  https://bit.ly/AlmaBGC para realizar sua inscr...  \n",
       "1  Nível: Estagiário Área: Tecnologia da Informaç...  \n",
       "2  Atribuições: Escritório de Contabilidade local...  \n",
       "3  Descrição: Administrar e atender a carteira de...  \n",
       "4  A Agilize é a única contabilidade online com a...  "
      ]
     },
     "execution_count": 17,
     "metadata": {},
     "output_type": "execute_result"
    }
   ],
   "source": [
    "# Uma pré visualização\n",
    "mass.head()"
   ]
  },
  {
   "cell_type": "code",
   "execution_count": 20,
   "id": "4dc27e86-3381-457c-b937-e775f87557fc",
   "metadata": {},
   "outputs": [
    {
     "data": {
      "text/plain": [
       "company\n",
       "                                          4\n",
       "Divulga Vagas                             4\n",
       "Buscar Vagas - BR                         2\n",
       "BGC Brasil                                1\n",
       "Empresa confidencial                      1\n",
       "GF Gestão de Pessoas                      1\n",
       "Pessin Gestão e Desenvolvimento Humano    1\n",
       "Sicoob Confiança                          1\n",
       "Name: title, dtype: int64"
      ]
     },
     "execution_count": 20,
     "metadata": {},
     "output_type": "execute_result"
    }
   ],
   "source": [
    "# Aqui, faço a contagem de quais empresas possuem mais vagas\n",
    "company_jobs = mass.groupby('company').count()['title'].sort_values(ascending=False)\n",
    "company_jobs"
   ]
  },
  {
   "cell_type": "code",
   "execution_count": 39,
   "id": "57a0aa0d-b784-47c5-8133-26b31e0826ac",
   "metadata": {},
   "outputs": [
    {
     "data": {
      "image/png": "[encoded data removed]",
      "text/plain": [
       "<Figure size 864x288 with 1 Axes>"
      ]
     },
     "metadata": {
      "needs_background": "light"
     },
     "output_type": "display_data"
    }
   ],
   "source": [
    "company_jobs.plot(kind='bar', figsize=(12,4), rot=60, color=\"blue\")\n",
    "pyplot.show()"
   ]
  },
  {
   "cell_type": "code",
   "execution_count": 35,
   "id": "8e2553b4-0341-4f57-b105-36c4daf24a02",
   "metadata": {},
   "outputs": [
    {
     "data": {
      "text/plain": [
       "location\n",
       "Recife, PE                     4\n",
       "Brasília, DF                   1\n",
       "Cascavel, PR                   1\n",
       "Eunápolis, BA                  1\n",
       "Marechal Cândido Rondon, PR    1\n",
       "Maringá, PR                    1\n",
       "Novo Hamburgo, RS              1\n",
       "Remoto                         1\n",
       "Rio de Janeiro, RJ             1\n",
       "Salvador, BA                   1\n",
       "Santa Catarina                 1\n",
       "São José dos Campos, SP        1\n",
       "Name: title, dtype: int64"
      ]
     },
     "execution_count": 35,
     "metadata": {},
     "output_type": "execute_result"
    }
   ],
   "source": [
    "# Aqui, faço a contagem de quais localidades possuem mais vagas\n",
    "location_jobs = mass.groupby('location').count()['title'].sort_values(ascending=False)\n",
    "location_jobs"
   ]
  },
  {
   "cell_type": "code",
   "execution_count": 43,
   "id": "1d4a7041-298c-4b0a-bb94-023e71d42450",
   "metadata": {},
   "outputs": [
    {
     "data": {
      "image/png": "[encoded data removed]",
      "text/plain": [
       "<Figure size 864x288 with 1 Axes>"
      ]
     },
     "metadata": {
      "needs_background": "light"
     },
     "output_type": "display_data"
    }
   ],
   "source": [
    "location_jobs.plot(kind='bar', figsize=(12,4), rot=60, color=\"green\")\n",
    "pyplot.show()"
   ]
  },
  {
   "cell_type": "markdown",
   "id": "f75e37fe-a863-4812-97e4-70c7612f865c",
   "metadata": {},
   "source": [
    "Agora vou analisar os dados de texto, aplicando um processamento de linguagem natural"
   ]
  },
  {
   "cell_type": "code",
   "execution_count": 44,
   "id": "e3e14180-aa59-4b11-b06a-d02923460426",
   "metadata": {},
   "outputs": [],
   "source": [
    "# Função de limpeza dos dados\n",
    "def limpa_dados(desc):\n",
    "    desc = word_tokenize(desc)\n",
    "    desc = [word.lower() for word in desc if word.isalpha() and len(word) > 2]\n",
    "    desc = [word for word in desc if word not in stop_words_pt]\n",
    "    desc = [word for word in desc if word not in stop_words_en]\n",
    "    return desc"
   ]
  },
  {
   "cell_type": "code",
   "execution_count": 47,
   "id": "655af370-9a68-4b49-b675-7b32bf2adfa4",
   "metadata": {},
   "outputs": [],
   "source": [
    "# Vamos definir a lista de stopwords em português\n",
    "stop_words_pt = stopwords.words('portuguese')"
   ]
  },
  {
   "cell_type": "code",
   "execution_count": 48,
   "id": "97eaae91-247f-4b8e-bf15-55a7567b1340",
   "metadata": {},
   "outputs": [],
   "source": [
    "# Vamos definir a lista de stopwords em inglês\n",
    "stop_words_en = stopwords.words('english')"
   ]
  },
  {
   "cell_type": "code",
   "execution_count": 49,
   "id": "5b6ef601-f037-417b-a652-f0cc1ca1b867",
   "metadata": {},
   "outputs": [],
   "source": [
    "# Aplicamos a função de limpeza a coluna de descrição da vaga\n",
    "desc_jobs = mass[\"jobdesc\"].apply(limpa_dados)"
   ]
  },
  {
   "cell_type": "code",
   "execution_count": 50,
   "id": "c081c28f-7f2b-4eb1-9bd4-9e8a26e66dc1",
   "metadata": {},
   "outputs": [
    {
     "data": {
      "text/plain": [
       "0    [https, realizar, inscrição, fala, universitár...\n",
       "1    [nível, estagiário, área, tecnologia, informaç...\n",
       "2    [atribuições, escritório, contabilidade, local...\n",
       "3    [descrição, administrar, atender, carteira, co...\n",
       "4    [agilize, única, contabilidade, online, atuaçã...\n",
       "Name: jobdesc, dtype: object"
      ]
     },
     "execution_count": 50,
     "metadata": {},
     "output_type": "execute_result"
    }
   ],
   "source": [
    "# Visualiza os dados\n",
    "desc_jobs.head()"
   ]
  },
  {
   "cell_type": "code",
   "execution_count": 53,
   "id": "c8846d01-285e-4c5a-957c-dbca1dc48b8d",
   "metadata": {},
   "outputs": [],
   "source": [
    "# Vamos sumarizar as descrições das vagas\n",
    "desc_itens = desc_jobs.apply(Counter).sum().items()"
   ]
  },
  {
   "cell_type": "code",
   "execution_count": 54,
   "id": "a8f82b0b-abdf-4cce-bfd9-a55b902d22ae",
   "metadata": {},
   "outputs": [],
   "source": [
    "# Ordenamos o resultado\n",
    "desc_itens = sorted(desc_itens, key = lambda kv: kv[1], reverse = True)"
   ]
  },
  {
   "cell_type": "code",
   "execution_count": 56,
   "id": "309eb53e-e283-4da0-9a5d-b9771e83230a",
   "metadata": {},
   "outputs": [],
   "source": [
    "# Criamos uma série\n",
    "desc_itens_serie = pandas.Series({k: v for k, v in desc_itens})"
   ]
  },
  {
   "cell_type": "code",
   "execution_count": 57,
   "id": "efcdda2e-7bbd-4e43-834c-fe6dd1a4ee10",
   "metadata": {},
   "outputs": [
    {
     "data": {
      "text/plain": [
       "dados              36\n",
       "conhecimento       25\n",
       "computação         21\n",
       "ter                19\n",
       "experiência        17\n",
       "sistemas           16\n",
       "análise            16\n",
       "superior           15\n",
       "desenvolvimento    15\n",
       "áreas              15\n",
       "ciências           15\n",
       "vaga               14\n",
       "informações        13\n",
       "desejável          13\n",
       "requisitos         12\n",
       "dtype: int64"
      ]
     },
     "execution_count": 57,
     "metadata": {},
     "output_type": "execute_result"
    }
   ],
   "source": [
    "# Visualizamos os dados, com a contagem de palavras mais frequentes nas descrições das vagas\n",
    "desc_itens_serie.head(15)"
   ]
  },
  {
   "cell_type": "code",
   "execution_count": 58,
   "id": "0eacf602-7e66-4cb2-9ccf-7b88bc9a80d8",
   "metadata": {},
   "outputs": [],
   "source": [
    "# Vamos criar uma lista de skills e pesquisar como eles aparecem nas descrições das vagas\n",
    "# Usamoas as palavras em minúsculo pois ao limpar os dados convertemos tudo para minúsculo\n",
    "skills = [\"python\", \"statistics\", \"analytics\", \"business\", \"projects\", \"develop\"]"
   ]
  },
  {
   "cell_type": "code",
   "execution_count": 59,
   "id": "f748e5c5-5121-4160-ba93-a9aa8434bdef",
   "metadata": {},
   "outputs": [],
   "source": [
    "# Filtramos a série com os skills\n",
    "filtro_skills = desc_itens_serie.filter(items = skills)"
   ]
  },
  {
   "cell_type": "code",
   "execution_count": 60,
   "id": "14406b84-0d93-4aed-9ac0-058177d19fe5",
   "metadata": {},
   "outputs": [
    {
     "data": {
      "text/plain": [
       "<AxesSubplot:>"
      ]
     },
     "execution_count": 60,
     "metadata": {},
     "output_type": "execute_result"
    },
    {
     "data": {
      "image/png": "[encoded data removed]",
      "text/plain": [
       "<Figure size 1296x432 with 1 Axes>"
      ]
     },
     "metadata": {
      "needs_background": "light"
     },
     "output_type": "display_data"
    }
   ],
   "source": [
    "# Criamos o plot\n",
    "filtro_skills.plot(kind = 'bar', figsize = (18,6), color = \"brown\", rot = 30)"
   ]
  },
  {
   "cell_type": "code",
   "execution_count": null,
   "id": "5ad7d5bf-37dd-47c0-bc54-20f8c51c529d",
   "metadata": {},
   "outputs": [],
   "source": []
  }
 ],
 "metadata": {
  "kernelspec": {
   "display_name": "Python 3",
   "language": "python",
   "name": "python3"
  },
  "language_info": {
   "codemirror_mode": {
    "name": "ipython",
    "version": 3
   },
   "file_extension": ".py",
   "mimetype": "text/x-python",
   "name": "python",
   "nbconvert_exporter": "python",
   "pygments_lexer": "ipython3",
   "version": "3.8.8"
  },
  "toc-autonumbering": false,
  "toc-showcode": false,
  "toc-showmarkdowntxt": false
 },
 "nbformat": 4,
 "nbformat_minor": 5
}
