{
 "cells": [
  {
   "cell_type": "markdown",
   "id": "biblical-understanding",
   "metadata": {},
   "source": [
    "# Ordenação"
   ]
  },
  {
   "cell_type": "markdown",
   "id": "sound-yield",
   "metadata": {},
   "source": [
    "## Ordenação por Bolha"
   ]
  },
  {
   "cell_type": "markdown",
   "id": "animated-disability",
   "metadata": {},
   "source": [
    "## Ordenação por Bolha"
   ]
  },
  {
   "cell_type": "markdown",
   "id": "looking-constitutional",
   "metadata": {},
   "source": [
    "## Ordenação por Seleção"
   ]
  },
  {
   "cell_type": "markdown",
   "id": "nuclear-reggae",
   "metadata": {},
   "source": [
    "## Ordenação por Mistura"
   ]
  },
  {
   "cell_type": "markdown",
   "id": "affected-fifty",
   "metadata": {},
   "source": [
    "## Ordenação Rápida"
   ]
  },
  {
   "cell_type": "code",
   "execution_count": null,
   "id": "electronic-above",
   "metadata": {},
   "outputs": [],
   "source": []
  }
 ],
 "metadata": {
  "kernelspec": {
   "display_name": "Python 3",
   "language": "python",
   "name": "python3"
  },
  "language_info": {
   "codemirror_mode": {
    "name": "ipython",
    "version": 3
   },
   "file_extension": ".py",
   "mimetype": "text/x-python",
   "name": "python",
   "nbconvert_exporter": "python",
   "pygments_lexer": "ipython3",
   "version": "3.8.5"
  }
 },
 "nbformat": 4,
 "nbformat_minor": 5
}
