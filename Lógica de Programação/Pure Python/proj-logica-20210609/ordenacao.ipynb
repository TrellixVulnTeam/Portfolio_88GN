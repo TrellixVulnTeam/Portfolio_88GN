{
 "cells": [
  {
   "cell_type": "markdown",
   "id": "returning-effects",
   "metadata": {},
   "source": [
    "# Ordenação"
   ]
  },
  {
   "cell_type": "markdown",
   "id": "sudden-trinity",
   "metadata": {},
   "source": [
    "## Ordenação por Bolha"
   ]
  },
  {
   "cell_type": "markdown",
   "id": "behavioral-middle",
   "metadata": {},
   "source": [
    "A Ordenação por \"bolha\" é normalmente ensinada nas aulas introdutórias de cursos de graduação em Ciência da Computação (parte fundamental em Data Science), uma vez que demonstra claramente como a Ordenação funciona, sendo simples e fácil de entender. A Ordenação por bolha percorre a lista e compara pares de elementos adjacentes. Os elementos são trocados se estiverem na ordem errada. A passagem pela parte não ordenada da lista é repetida até que a lista seja ordenada. Como a Ordenação por bolhas passa repetidamente pela parte não ordenada da lista, ela tem uma complexidade de pior caso de O (n²).\n",
    "\n",
    "Aqui você encontra o pseudocódigo do Buble Sort: https://pt.wikipedia.org/wiki/Bubble_sort"
   ]
  },
  {
   "cell_type": "markdown",
   "id": "elementary-translator",
   "metadata": {},
   "source": [
    "## Ordenação por Seleção"
   ]
  },
  {
   "cell_type": "markdown",
   "id": "pleased-certificate",
   "metadata": {},
   "source": [
    "A Ordenação Por Seleção também é bastante simples, mas frequentemente supera a ordenação por bolhas. Com a Ordenação Por Seleção, dividimos nossa lista / array de entrada em duas partes: a sub-lista de itens já ordenados e a sub-lista de itens restantes a serem ordenados que compõem o restante da lista. Primeiro, encontramos o menor elemento na sub-lista não ordenada e o colocamos no final da sub-lista ordenada. Assim, estamos continuamente pegando o menor elemento não ordenado e colocando-o em ordem na sub-lista ordenada. Esse processo continua iterativamente até que a lista seja totalmente ordenada.\n",
    "\n",
    "Aqui o pseudocódigo e um exemplo em Python: https://pt.wikipedia.org/wiki/Selection_sort"
   ]
  },
  {
   "cell_type": "markdown",
   "id": "authentic-object",
   "metadata": {},
   "source": [
    "## Ordenação por Mistura"
   ]
  },
  {
   "cell_type": "markdown",
   "id": "banner-gather",
   "metadata": {},
   "source": [
    "A Ordenação Merge Sort é um exemplo perfeitamente elegante de um algoritmo de divisão e conquista. É simples e usa as duas etapas principais de um algoritmo:\n",
    "\n",
    "(1) Divide continuamente a lista não ordenada até que você tenha N sub-listas, onde cada sub-lista possui 1 elemento \"não ordenado\" e N é o número de elementos na lista original.\n",
    "\n",
    "(2) Mescla repetidamente as sub-listas juntando 2 de cada vez para produzir novas sub-listas ordenadas até que todos os elementos tenham sido totalmente mesclados em uma única lista ordenada.\n",
    "\n",
    "Aqui o pseudocódigo e um exemplo em Python: https://pt.wikipedia.org/wiki/Merge_sort"
   ]
  },
  {
   "cell_type": "markdown",
   "id": "moving-shell",
   "metadata": {},
   "source": [
    "## Ordenação Rápida"
   ]
  },
  {
   "cell_type": "markdown",
   "id": "banner-writer",
   "metadata": {},
   "source": [
    "A ordenação rápida também é um algoritmo de divisão e conquista, como o Merge Sort. Embora seja um pouco mais complicado, na maioria das implementações ele executa significativamente mais rápido que a ordenação Merge Sort e raramente atinge a pior complexidade de O (n²). \n",
    "\n",
    "Possui 3 etapas principais:\n",
    "\n",
    "(1) Primeiro selecionamos um elemento que chamaremos de pivô da matriz.\n",
    "\n",
    "(2) Movemos todos os elementos menores que o pivô, para a esquerda do pivô; movemos todos os elementos maiores que o pivô, para a direita do pivô. Isso é chamado de operação de partição.\n",
    "\n",
    "(3) Aplicamos recursivamente as duas etapas acima separadamente em cada uma das sub-matrizes de elementos com valores menores e maiores que o último pivô.\n",
    "\n",
    "Aqui o pseudocódigo e um exemplo em Python: https://pt.wikipedia.org/wiki/Quicksort"
   ]
  },
  {
   "cell_type": "markdown",
   "id": "divine-sympathy",
   "metadata": {},
   "source": [
    "## Exercícios"
   ]
  },
  {
   "cell_type": "markdown",
   "id": "bearing-toyota",
   "metadata": {},
   "source": [
    "No link abaixo você encontra mais de 20 exercícios de pesquisa binária e ordenação. Os exercícios possuem enunciado e depois você pode clicar no link abaixo do enunciado e conferir a resposta. Tente resolver alguns exercícios e compreender bem os algoritmos que estudamos esta semana até aqui. \n",
    "\n",
    "https://www.w3resource.com/python-exercises/data-structures-and-algorithms/ "
   ]
  },
  {
   "cell_type": "markdown",
   "id": "polyphonic-namibia",
   "metadata": {},
   "source": [
    "## Tabela do tempo de execução"
   ]
  },
  {
   "cell_type": "markdown",
   "id": "executive-chapel",
   "metadata": {},
   "source": [
    "A tabela abaixo resume o tempo de execução e complexidade dos principais algoritmos de pesquisa e ordenação. \n",
    "\n",
    "Fonte: https://www.hackerearth.com/practice/notes/sorting-and-searching-algorithms-time-complexities-cheat-sheet/"
   ]
  },
  {
   "cell_type": "code",
   "execution_count": null,
   "id": "roman-jaguar",
   "metadata": {},
   "outputs": [],
   "source": []
  }
 ],
 "metadata": {
  "kernelspec": {
   "display_name": "Python 3",
   "language": "python",
   "name": "python3"
  },
  "language_info": {
   "codemirror_mode": {
    "name": "ipython",
    "version": 3
   },
   "file_extension": ".py",
   "mimetype": "text/x-python",
   "name": "python",
   "nbconvert_exporter": "python",
   "pygments_lexer": "ipython3",
   "version": "3.8.5"
  }
 },
 "nbformat": 4,
 "nbformat_minor": 5
}
